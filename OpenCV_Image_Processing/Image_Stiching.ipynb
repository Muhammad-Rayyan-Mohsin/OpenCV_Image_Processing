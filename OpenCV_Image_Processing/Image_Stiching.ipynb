{
 "cells": [
  {
   "cell_type": "code",
   "execution_count": 6,
   "metadata": {
    "id": "JqqrpEsrMkct"
   },
   "outputs": [
    {
     "ename": "ModuleNotFoundError",
     "evalue": "No module named 'google'",
     "output_type": "error",
     "traceback": [
      "\u001b[1;31m---------------------------------------------------------------------------\u001b[0m",
      "\u001b[1;31mModuleNotFoundError\u001b[0m                       Traceback (most recent call last)",
      "Cell \u001b[1;32mIn[6], line 2\u001b[0m\n\u001b[0;32m      1\u001b[0m \u001b[38;5;28;01mimport\u001b[39;00m \u001b[38;5;21;01mcv2\u001b[39;00m\n\u001b[1;32m----> 2\u001b[0m \u001b[38;5;28;01mfrom\u001b[39;00m \u001b[38;5;21;01mgoogle\u001b[39;00m\u001b[38;5;21;01m.\u001b[39;00m\u001b[38;5;21;01mcolab\u001b[39;00m\u001b[38;5;21;01m.\u001b[39;00m\u001b[38;5;21;01mpatches\u001b[39;00m \u001b[38;5;28;01mimport\u001b[39;00m cv2_imshow\n",
      "\u001b[1;31mModuleNotFoundError\u001b[0m: No module named 'google'"
     ]
    }
   ],
   "source": [
    "import cv2\n",
    "from google.colab.patches import cv2_imshow"
   ]
  },
  {
   "cell_type": "code",
   "execution_count": 7,
   "metadata": {
    "colab": {
     "base_uri": "https://localhost:8080/",
     "height": 1000
    },
    "id": "gttAzVxbMalT",
    "outputId": "538d29c1-9bde-40d9-f317-9b8f8e2c2995"
   },
   "outputs": [
    {
     "ename": "error",
     "evalue": "OpenCV(4.8.1) D:\\a\\opencv-python\\opencv-python\\opencv\\modules\\imgcodecs\\src\\loadsave.cpp:787: error: (-215:Assertion failed) !_img.empty() in function 'cv::imwrite'\n",
     "output_type": "error",
     "traceback": [
      "\u001b[1;31m---------------------------------------------------------------------------\u001b[0m",
      "\u001b[1;31merror\u001b[0m                                     Traceback (most recent call last)",
      "Cell \u001b[1;32mIn[7], line 2\u001b[0m\n\u001b[0;32m      1\u001b[0m img \u001b[38;5;241m=\u001b[39m cv2\u001b[38;5;241m.\u001b[39mimread(\u001b[38;5;124m\"\u001b[39m\u001b[38;5;124m/content/image.jpg\u001b[39m\u001b[38;5;124m\"\u001b[39m)\n\u001b[1;32m----> 2\u001b[0m \u001b[43mcv2\u001b[49m\u001b[38;5;241;43m.\u001b[39;49m\u001b[43mimwrite\u001b[49m\u001b[43m(\u001b[49m\u001b[38;5;124;43m'\u001b[39;49m\u001b[38;5;124;43moriginal.jpg\u001b[39;49m\u001b[38;5;124;43m'\u001b[39;49m\u001b[43m,\u001b[49m\u001b[43m \u001b[49m\u001b[43mimg\u001b[49m\u001b[43m)\u001b[49m\n\u001b[0;32m      3\u001b[0m cv2_imshow(img)\n\u001b[0;32m      4\u001b[0m cv2\u001b[38;5;241m.\u001b[39mwaitKey(\u001b[38;5;241m0\u001b[39m)\n",
      "\u001b[1;31merror\u001b[0m: OpenCV(4.8.1) D:\\a\\opencv-python\\opencv-python\\opencv\\modules\\imgcodecs\\src\\loadsave.cpp:787: error: (-215:Assertion failed) !_img.empty() in function 'cv::imwrite'\n"
     ]
    }
   ],
   "source": [
    "img = cv2.imread(\"/content/image.jpg\")\n",
    "cv2.imwrite('original.jpg', img)\n",
    "cv2_imshow(img)\n",
    "cv2.waitKey(0)\n",
    "cv2.destroyAllWindows()"
   ]
  },
  {
   "cell_type": "code",
   "execution_count": 8,
   "metadata": {
    "colab": {
     "base_uri": "https://localhost:8080/",
     "height": 1000
    },
    "id": "5xrpmMU24zvE",
    "outputId": "bbf86fff-6d23-47e1-d7bc-5136782a0165"
   },
   "outputs": [
    {
     "ename": "ModuleNotFoundError",
     "evalue": "No module named 'google'",
     "output_type": "error",
     "traceback": [
      "\u001b[1;31m---------------------------------------------------------------------------\u001b[0m",
      "\u001b[1;31mModuleNotFoundError\u001b[0m                       Traceback (most recent call last)",
      "Cell \u001b[1;32mIn[8], line 3\u001b[0m\n\u001b[0;32m      1\u001b[0m \u001b[38;5;28;01mimport\u001b[39;00m \u001b[38;5;21;01mnumpy\u001b[39;00m \u001b[38;5;28;01mas\u001b[39;00m \u001b[38;5;21;01mnp\u001b[39;00m\n\u001b[0;32m      2\u001b[0m \u001b[38;5;28;01mimport\u001b[39;00m \u001b[38;5;21;01mcv2\u001b[39;00m\n\u001b[1;32m----> 3\u001b[0m \u001b[38;5;28;01mfrom\u001b[39;00m \u001b[38;5;21;01mgoogle\u001b[39;00m\u001b[38;5;21;01m.\u001b[39;00m\u001b[38;5;21;01mcolab\u001b[39;00m\u001b[38;5;21;01m.\u001b[39;00m\u001b[38;5;21;01mpatches\u001b[39;00m \u001b[38;5;28;01mimport\u001b[39;00m cv2_imshow\n\u001b[0;32m      5\u001b[0m \u001b[38;5;66;03m# Function to rotate an image by a specified angle\u001b[39;00m\n\u001b[0;32m      6\u001b[0m \u001b[38;5;28;01mdef\u001b[39;00m \u001b[38;5;21mrotate_image\u001b[39m(image, angle):\n\u001b[0;32m      7\u001b[0m     \u001b[38;5;66;03m# Get the center of the image\u001b[39;00m\n",
      "\u001b[1;31mModuleNotFoundError\u001b[0m: No module named 'google'"
     ]
    }
   ],
   "source": [
    "import numpy as np\n",
    "import cv2\n",
    "from google.colab.patches import cv2_imshow\n",
    "\n",
    "# Function to rotate an image by a specified angle\n",
    "def rotate_image(image, angle):\n",
    "    # Get the center of the image\n",
    "    center = (image.shape[1] // 2, image.shape[0] // 2)\n",
    "\n",
    "    # Perform the rotation\n",
    "    matrix = cv2.getRotationMatrix2D(center, angle, 1.0)\n",
    "    rotated_image = cv2.warpAffine(image, matrix, (image.shape[1], image.shape[0]))\n",
    "\n",
    "    return rotated_image\n",
    "\n",
    "# Function to resize an image to a specified width and height\n",
    "def resize_image(image, width, height):\n",
    "    return cv2.resize(image, (width, height))\n",
    "\n",
    "background_height = 3 * 346  # Double the height to accommodate two rows\n",
    "background_width = 346 * 10  # Updated to accommodate additional sub-images\n",
    "background = np.ones((background_height, background_width, 3), np.uint8) * 255\n",
    "\n",
    "# Load your sub-images\n",
    "sub_image1 = cv2.imread('/content/img1.png')\n",
    "sub_image3 = cv2.imread('/content/img3.png')\n",
    "sub_image5 = cv2.imread('/content/img5.png')\n",
    "sub_image6 = cv2.imread('/content/img6.png')\n",
    "sub_image7 = cv2.imread('/content/img7.png')\n",
    "sub_image18 = cv2.imread('/content/img18.png')\n",
    "sub_image4 = cv2.imread('/content/img4.png')\n",
    "sub_image9 = cv2.imread('/content/img9.png')\n",
    "sub_image2 = cv2.imread('/content/img2.png')\n",
    "sub_image14 = cv2.imread('/content/img14.png')\n",
    "sub_image8 = cv2.imread('/content/img8.png')\n",
    "sub_image17 = cv2.imread('/content/img17.png')\n",
    "sub_image11 = cv2.imread('/content/img11.png')\n",
    "sub_image13 = cv2.imread('/content/img13.png')\n",
    "sub_image15 = cv2.imread('/content/img15.png')\n",
    "sub_image10 = cv2.imread('/content/img10.png')\n",
    "sub_image12 = cv2.imread('/content/img12.png')\n",
    "sub_image16 = cv2.imread('/content/img16.png')\n",
    "\n",
    "\n",
    "# Resize all sub-images to 346x346 pixels\n",
    "common_width, common_height = 346, 346\n",
    "sub_image1 = resize_image(sub_image1, common_width, common_height)\n",
    "sub_image3 = resize_image(sub_image3, common_width, common_height)\n",
    "sub_image5 = resize_image(sub_image5, common_width, common_height)\n",
    "sub_image6 = resize_image(sub_image6, common_width, common_height)\n",
    "sub_image7 = resize_image(sub_image7, common_width, common_height)\n",
    "sub_image18 = resize_image(sub_image18, common_width, common_height)\n",
    "sub_image4 = resize_image(sub_image4, common_width, common_height)\n",
    "sub_image9 = resize_image(sub_image9, common_width, common_height)\n",
    "sub_image2 = resize_image(sub_image2, common_width, common_height)\n",
    "sub_image14 = resize_image(sub_image14, common_width, common_height)\n",
    "sub_image8 = resize_image(sub_image8, common_width, common_height)\n",
    "sub_image17 = resize_image(sub_image17, common_width, common_height)\n",
    "sub_image11 = resize_image(sub_image11, common_width, common_height)\n",
    "sub_image13 = resize_image(sub_image13, common_width, common_height)\n",
    "sub_image15 = resize_image(sub_image15, common_width, common_height)\n",
    "sub_image10 = resize_image(sub_image10, common_width, common_height)\n",
    "sub_image12 = resize_image(sub_image12, common_width, common_height)\n",
    "sub_image16 = resize_image(sub_image16, common_width, common_height)\n",
    "\n",
    "\n",
    "#img7\n",
    "sub_image7_flip=cv2.flip(sub_image7,0)\n",
    "sub_image7_rotated= cv2.rotate(sub_image7_flip, cv2.ROTATE_90_CLOCKWISE)\n",
    "# Rotate img5 by 90 degrees to the right\n",
    "sub_image5_rotated = rotate_image(sub_image5, -90)\n",
    "\n",
    "# Rotate img6 by 45 degrees\n",
    "sub_image6_flip= cv2.flip(sub_image6,0)\n",
    "sub_image6_rotated= cv2.rotate(sub_image6_flip, cv2.ROTATE_90_CLOCKWISE)\n",
    "\n",
    "\n",
    "# Rotate img3 by 90 degrees to the right\n",
    "sub_image3_rotated = rotate_image(sub_image3, 45)\n",
    "\n",
    "# Define positions for each sub-image\n",
    "positions = [\n",
    "    ((0, 0), sub_image1),\n",
    "    ((0, common_width), sub_image5_rotated),\n",
    "    ((0, common_width * 2), sub_image18),\n",
    "    ((common_height, 0), sub_image7_rotated),\n",
    "    ((common_height, common_width), sub_image3_rotated),\n",
    "    ((common_height, common_width * 2), sub_image6_rotated)\n",
    "]\n",
    "\n",
    "for (row, col), sub_image in positions:\n",
    "    if sub_image is not None:\n",
    "        x1 = col\n",
    "        x2 = col + sub_image.shape[1]\n",
    "        y1 = row\n",
    "        y2 = row + sub_image.shape[0]\n",
    "        background[y1:y2, x1:x2] = sub_image\n",
    "\n",
    "sub_image4_rotated = rotate_image(sub_image4, -70)\n",
    "sub_image11_flip=cv2.flip(sub_image11,1)\n",
    "sub_image9_flip=cv2.flip(sub_image9,1)\n",
    "sub_image17_rotated = rotate_image(sub_image17, 90)\n",
    "sub_image13_rotated = rotate_image(sub_image13, -45)\n",
    "\n",
    "\n",
    "# Define positions for additional sub-images\n",
    "additional_positions = [\n",
    "    ((0, 3 * common_width), sub_image4_rotated),\n",
    "    ((common_height, 3 * common_width), sub_image9_flip),\n",
    "    ((2 * common_height, 3 * common_width), sub_image2),\n",
    "    ((0, 4 * common_width), sub_image14),\n",
    "    ((common_height, 4 * common_width), sub_image8),\n",
    "    ((2 * common_height, 4 * common_width), sub_image17_rotated),\n",
    "    ((0, 5 * common_width), sub_image11_flip),\n",
    "    ((common_height, 5 * common_width), sub_image13_rotated),\n",
    "    ((2 * common_height, 5 * common_width), sub_image12),\n",
    "    ((0, 6 * common_width), sub_image16),\n",
    "    ((common_height, 6 * common_width), sub_image10),\n",
    "    ((2 * common_height, 6 * common_width), sub_image15) \n",
    "]\n",
    "\n",
    "# Place each additional sub-image onto the background at the specified positions\n",
    "for (row, col), sub_image in additional_positions:\n",
    "    if sub_image is not None:\n",
    "        x1 = col\n",
    "        x2 = col + sub_image.shape[1]\n",
    "        y1 = row\n",
    "        y2 = row + sub_image.shape[0]\n",
    "        background[y1:y2, x1:x2] = sub_image\n",
    "\n",
    "\n",
    "# Save or display the complete image\n",
    "cv2.imwrite('/content/complete_image.jpg', background)\n",
    "cv2_imshow(background)\n",
    "cv2.waitKey(0)\n",
    "cv2.destroyAllWindows()\n"
   ]
  },
  {
   "cell_type": "code",
   "execution_count": null,
   "metadata": {},
   "outputs": [],
   "source": []
  },
  {
   "cell_type": "code",
   "execution_count": null,
   "metadata": {},
   "outputs": [],
   "source": []
  }
 ],
 "metadata": {
  "colab": {
   "provenance": []
  },
  "kernelspec": {
   "display_name": "Python 3 (ipykernel)",
   "language": "python",
   "name": "python3"
  },
  "language_info": {
   "codemirror_mode": {
    "name": "ipython",
    "version": 3
   },
   "file_extension": ".py",
   "mimetype": "text/x-python",
   "name": "python",
   "nbconvert_exporter": "python",
   "pygments_lexer": "ipython3",
   "version": "3.11.5"
  }
 },
 "nbformat": 4,
 "nbformat_minor": 4
}
